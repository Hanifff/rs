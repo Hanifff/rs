{
 "cells": [
  {
   "cell_type": "code",
   "execution_count": 1,
   "id": "f248207e",
   "metadata": {},
   "outputs": [],
   "source": [
    "from pyspark.ml.fpm import FPGrowth\n",
    "from numpy import array\n",
    "from math import sqrt\n",
    "from pyspark.sql import SparkSession\n",
    "from pyspark.conf import SparkConf\n",
    "from pyspark.sql import functions as F\n",
    "import pandas as pd"
   ]
  },
  {
   "cell_type": "code",
   "execution_count": 2,
   "id": "134fb5fa",
   "metadata": {},
   "outputs": [],
   "source": [
    "# set config of spark\n",
    "# conf = spark.sparkContext._conf.setAll([('spark.executor.memory', '16g'), ('spark.driver.memory','16g'),(\"spark.memory.offHeap.enabled\",\"true\"),(\"spark.memory.offHeap.size\",\"4g\"),(\"spark.driver.extraJavaOptions\",\"12g\")])\n",
    "\n",
    "spark = SparkSession.builder.appName('dat500').config(\"spark.driver.memory\", \"15g\").getOrCreate()\n",
    "spark = SparkSession(spark)"
   ]
  },
  {
   "cell_type": "code",
   "execution_count": 3,
   "id": "f52d1129",
   "metadata": {},
   "outputs": [
    {
     "name": "stderr",
     "output_type": "stream",
     "text": [
      "2022-05-01 14:58:17,456 WARN spark.HeartbeatReceiver: Removing executor driver with no recent heartbeats: 130113 ms exceeds timeout 120000 ms\n",
      "2022-05-01 14:58:17,668 WARN spark.SparkContext: Killing executors is not supported by current scheduler.\n",
      "                                                                                \r"
     ]
    },
    {
     "name": "stdout",
     "output_type": "stream",
     "text": [
      "CPU times: user 123 ms, sys: 69.9 ms, total: 192 ms\n",
      "Wall time: 3min 47s\n"
     ]
    }
   ],
   "source": [
    "%%time\n",
    "# A JSON dataset is pointed to by path.\n",
    "# The path can be either a single text file or a directory storing text files\n",
    "\n",
    "path1=\"/mydataset/proc_netflix/pre_part-01.json\"\n",
    "path2=\"/mydataset/proc_netflix/pre_part-02.json\"\n",
    "path3=\"/mydataset/proc_netflix/pre_part-03.json\"\n",
    "path4=\"/mydataset/proc_netflix/pre_part-04.json\"\n",
    "path5=\"/mydataset/proc_netflix/pre_part-05.json\"\n",
    "path6=\"/mydataset/proc_netflix/pre_part-06.json\"\n",
    "# .option(\"multiline\", \"true\")\n",
    "df = spark.read.json(path1)\n",
    "df2 = spark.read.json(path2)\n",
    "df3 = spark.read.json(path3)\n",
    "df4 = spark.read.json(path4)\n",
    "df5 = spark.read.json(path5)\n",
    "df6 = spark.read.json(path6)"
   ]
  },
  {
   "cell_type": "code",
   "execution_count": 4,
   "id": "04fbe744",
   "metadata": {},
   "outputs": [
    {
     "name": "stderr",
     "output_type": "stream",
     "text": [
      "                                                                                \r"
     ]
    },
    {
     "name": "stdout",
     "output_type": "stream",
     "text": [
      "The number of reviewers are: 418187\n",
      "root\n",
      " |-- reviewer: long (nullable = true)\n",
      " |-- movies: array (nullable = false)\n",
      " |    |-- element: string (containsNull = false)\n",
      "\n"
     ]
    },
    {
     "name": "stderr",
     "output_type": "stream",
     "text": [
      "[Stage 10:==================================================>   (186 + 2) / 200]\r"
     ]
    },
    {
     "name": "stdout",
     "output_type": "stream",
     "text": [
      "+--------+--------------------------------------------------------------------------------------------------------------------------------------------------------------------------+\n",
      "|reviewer|movies                                                                                                                                                                    |\n",
      "+--------+--------------------------------------------------------------------------------------------------------------------------------------------------------------------------+\n",
      "|99999979|[Infinity Train (I) (2019– ), Out (II) (2020), Primal (2019– )]                                                                                                           |\n",
      "|99999733|[The Rewrite (2014)]                                                                                                                                                      |\n",
      "|99999554|[Night Gallery: The House/Certain Shadows on the Wall (1970) Season 1, Episode 3, Mouse in Manhattan (1945), New Shoes (1936), That's Dancing! (1985), Love on Tap (1939)]|\n",
      "|99999349|[Doctor Who: Spyfall: Part Two (2020) Season 12, Episode 2, 蝙蝠女俠 (2019– ), Hitman: Agent 47 (2015), 熱氣球飛行家 (2019), Timeless (2016–2018)]                        |\n",
      "|99999297|[Deadly Switch (2019)]                                                                                                                                                    |\n",
      "|99999136|[Undone (2019– )]                                                                                                                                                         |\n",
      "|99998970|[The Sitter (2011)]                                                                                                                                                       |\n",
      "|99998915|[Run On (2020– )]                                                                                                                                                         |\n",
      "|99998662|[The Haunting of Bly Manor (2020)]                                                                                                                                        |\n",
      "|99998397|[The Hunger Games (2012)]                                                                                                                                                 |\n",
      "+--------+--------------------------------------------------------------------------------------------------------------------------------------------------------------------------+\n",
      "only showing top 10 rows\n",
      "\n",
      "CPU times: user 66 ms, sys: 95.9 ms, total: 162 ms\n",
      "Wall time: 39.7 s\n"
     ]
    },
    {
     "name": "stderr",
     "output_type": "stream",
     "text": [
      "\r",
      "[Stage 10:====================================================> (196 + 2) / 200]\r",
      "\r",
      "                                                                                \r"
     ]
    }
   ],
   "source": [
    "%%time\n",
    "# root\n",
    "#  |-- movie: string (nullable = true)\n",
    "#  |-- rating: string (nullable = true)\n",
    "#  |-- review_id: string (nullable = true)\n",
    "#  |-- reviewer: string (nullable = true)\n",
    "\n",
    "\n",
    "# join dfs \n",
    "cols=[\"movie\",\"rating\",\"reviewer\",\"review_id\",\"spoiler_tag\",\"review_summary\",\"helpful\",\"review_date\"]\n",
    "df.join(df2,cols).join(df3,cols).join(df4,cols).join(df5,cols).join(df6,cols)\n",
    "\n",
    "# clean the df\n",
    "df = df.na.drop().drop(\"review_summary\",\"spoiler_tag\",\"helpful\",\"review_date\")\n",
    "df = df.groupBy(\"reviewer\").agg(F.collect_set(\"movie\").alias(\"movies\"))\n",
    "\n",
    "df = df.sort(F.desc(\"reviewer\"))\n",
    "row = df.count()\n",
    "print(f'The number of reviewers are: {row}')\n",
    "df.printSchema()\n",
    "df.show(10,truncate=False)"
   ]
  },
  {
   "cell_type": "code",
   "execution_count": 5,
   "id": "b7aa428e",
   "metadata": {},
   "outputs": [
    {
     "name": "stderr",
     "output_type": "stream",
     "text": [
      "[Stage 28:=================================================>    (183 + 2) / 200]\r"
     ]
    },
    {
     "name": "stdout",
     "output_type": "stream",
     "text": [
      "+-----------------------------------------------------+----+\n",
      "|items                                                |freq|\n",
      "+-----------------------------------------------------+----+\n",
      "|[Dil Bechara (2020)]                                 |7573|\n",
      "|[小丑 (2019)]                                        |6289|\n",
      "|[Wonder Woman 1984 (2020)]                           |5264|\n",
      "|[STAR WARS：天行者的崛起 (2019)]                     |5074|\n",
      "|[Laxmii (2020)]                                      |4698|\n",
      "|[Gunjan Saxena: The Kargil Girl (2020)]              |4011|\n",
      "|[Supernatural: Carry On (2020) Season 15, Episode 20]|3586|\n",
      "|[Tenet (2020)]                                       |3008|\n",
      "|[Scam 1992: The Harshad Mehta Story (2020)]          |2984|\n",
      "|[Mrs. Serial Killer (2020)]                          |2913|\n",
      "|[Batman v Superman: Dawn of Justice (2016)]          |2860|\n",
      "|[Coolie No. 1 (2020)]                                |2798|\n",
      "|[獵魔士 (2019– )]                                    |2706|\n",
      "|[Mulan (2020)]                                       |2673|\n",
      "|[The Haunting of Bly Manor (2020)]                   |2002|\n",
      "|[The Queen's Gambit (2020)]                          |2001|\n",
      "|[Asur: Welcome to Your Dark Side (2020– )]           |1967|\n",
      "|[The Midnight Sky (2020)]                            |1781|\n",
      "|[Star Wars: The Rise Of Skywalker (2019)]            |1778|\n",
      "|[鬼影特攻：以暴制暴 (2019)]                          |1645|\n",
      "+-----------------------------------------------------+----+\n",
      "only showing top 20 rows\n",
      "\n",
      "CPU times: user 148 ms, sys: 95.5 ms, total: 243 ms\n",
      "Wall time: 1min 12s\n"
     ]
    },
    {
     "name": "stderr",
     "output_type": "stream",
     "text": [
      "\r",
      "[Stage 28:==================================================>   (188 + 3) / 200]\r",
      "\r",
      "                                                                                \r"
     ]
    }
   ],
   "source": [
    "%%time\n",
    "# fp-growth\n",
    "\n",
    "fpGrowth = FPGrowth(itemsCol=\"movies\",minSupport=0.001, minConfidence=0.006)\n",
    "model = fpGrowth.fit(df)\n",
    "# Display frequent itemsets.\n",
    "model.freqItemsets.sort(F.desc(\"freq\")).show(20,truncate=False)"
   ]
  },
  {
   "cell_type": "code",
   "execution_count": 6,
   "id": "95ddd003",
   "metadata": {},
   "outputs": [
    {
     "name": "stderr",
     "output_type": "stream",
     "text": [
      "                                                                                \r"
     ]
    },
    {
     "name": "stdout",
     "output_type": "stream",
     "text": [
      "+----------------------------------------------------------------------------------------+---------------------------+------------------+-----------------+---------------------+\n",
      "|antecedent                                                                              |consequent                 |confidence        |lift             |support              |\n",
      "+----------------------------------------------------------------------------------------+---------------------------+------------------+-----------------+---------------------+\n",
      "|[Poison (2019– ), Tiki Taka (2020)]                                                     |[London Confidental (2020)]|0.9754464285714286|758.2137836895912|0.0010449870512474085|\n",
      "|[Poison (2019– ), Tiki Taka (2020)]                                                     |[Comedy Couple (2020)]     |0.9709821428571429|671.1605113636364|0.0010402045018137818|\n",
      "|[Poison (2019– ), Tiki Taka (2020)]                                                     |[Atkan Chatkan (2020)]     |0.9598214285714286|654.7876733278956|0.0010282481282297153|\n",
      "|[Poison (2019– ), Tiki Taka (2020)]                                                     |[Naxalbari (2020– )]       |0.9933035714285714|780.8019560620301|0.0010641172489819148|\n",
      "|[Poison (2019– ), London Confidental (2020), Atkan Chatkan (2020)]                      |[Comedy Couple (2020)]     |0.9715536105032823|671.5555201909688|0.0010617259742651014|\n",
      "|[Poison (2019– ), London Confidental (2020), Atkan Chatkan (2020)]                      |[Naxalbari (2020– )]       |0.9956236323851203|782.6256766094667|0.0010880299961500478|\n",
      "|[Poison (2019– ), London Confidental (2020), Atkan Chatkan (2020)]                      |[Tiki Taka (2020)]         |0.9168490153172867|745.942294102121 |0.0010019441063447692|\n",
      "|[London Confidental (2020), Atkan Chatkan (2020)]                                       |[Comedy Couple (2020)]     |0.9661016949152542|667.7870570107858|0.001090421270866861 |\n",
      "|[London Confidental (2020), Atkan Chatkan (2020)]                                       |[Naxalbari (2020– )]       |0.9872881355932204|776.0734277430865|0.0011143340180349939|\n",
      "|[London Confidental (2020), Atkan Chatkan (2020)]                                       |[Tiki Taka (2020)]         |0.9088983050847458|739.4736488491724|0.0010258568535129022|\n",
      "|[London Confidental (2020), Atkan Chatkan (2020)]                                       |[Poison (2019– )]          |0.9682203389830508|797.0416513746163|0.0010928125455836742|\n",
      "|[Poison (2019– ), Naxalbari (2020– ), Comedy Couple (2020)]                             |[London Confidental (2020)]|0.9765957446808511|759.1071462469351|0.001097595095017301 |\n",
      "|[Poison (2019– ), Naxalbari (2020– ), Comedy Couple (2020)]                             |[Atkan Chatkan (2020)]     |0.9638297872340426|657.5221651452571|0.001083247446716421 |\n",
      "|[Poison (2019– ), Naxalbari (2020– ), Comedy Couple (2020)]                             |[Tiki Taka (2020)]         |0.9191489361702128|747.8134944945774|0.001033030677663342 |\n",
      "|[Poison (2019– ), London Confidental (2020), Comedy Couple (2020), Atkan Chatkan (2020)]|[Naxalbari (2020– )]       |0.9954954954954955|782.5249525841631|0.001056943424831475 |\n",
      "|[Tiki Taka (2020), Comedy Couple (2020), Atkan Chatkan (2020)]                          |[Naxalbari (2020– )]       |0.9678899082568807|760.8251448575567|0.001009117930495209 |\n",
      "|[Naxalbari (2020– ), London Confidental (2020), Comedy Couple (2020)]                   |[Atkan Chatkan (2020)]     |0.9617834394904459|656.1261520557766|0.001083247446716421 |\n",
      "|[Naxalbari (2020– ), London Confidental (2020), Comedy Couple (2020)]                   |[Tiki Taka (2020)]         |0.910828025477707 |741.0436565961982|0.0010258568535129022|\n",
      "|[Naxalbari (2020– ), London Confidental (2020), Comedy Couple (2020)]                   |[Poison (2019– )]          |0.9745222929936306|802.2294372837154|0.001097595095017301 |\n",
      "|[Comedy Couple (2020)]                                                                  |[Atkan Chatkan (2020)]     |0.7900826446280992|538.9923179593653|0.0011430293146367533|\n",
      "+----------------------------------------------------------------------------------------+---------------------------+------------------+-----------------+---------------------+\n",
      "only showing top 20 rows\n",
      "\n",
      "CPU times: user 31.5 ms, sys: 12.1 ms, total: 43.6 ms\n",
      "Wall time: 10.6 s\n"
     ]
    }
   ],
   "source": [
    "%%time\n",
    "items = model.freqItemsets\n",
    "# Display generated association rules.\n",
    "model.associationRules.show(20,truncate=False)\n",
    "rules = model.associationRules"
   ]
  },
  {
   "cell_type": "code",
   "execution_count": 7,
   "id": "33339aba",
   "metadata": {},
   "outputs": [
    {
     "name": "stderr",
     "output_type": "stream",
     "text": [
      "                                                                                \r"
     ]
    },
    {
     "name": "stdout",
     "output_type": "stream",
     "text": [
      "+--------+--------------------------------------------------------------------------------------------------------------------------------------------------------------------------+----------+\n",
      "|reviewer|movies                                                                                                                                                                    |prediction|\n",
      "+--------+--------------------------------------------------------------------------------------------------------------------------------------------------------------------------+----------+\n",
      "|99999979|[Infinity Train (I) (2019– ), Out (II) (2020), Primal (2019– )]                                                                                                           |[]        |\n",
      "|99999733|[The Rewrite (2014)]                                                                                                                                                      |[]        |\n",
      "|99999554|[Night Gallery: The House/Certain Shadows on the Wall (1970) Season 1, Episode 3, Mouse in Manhattan (1945), New Shoes (1936), That's Dancing! (1985), Love on Tap (1939)]|[]        |\n",
      "|99999349|[Doctor Who: Spyfall: Part Two (2020) Season 12, Episode 2, 蝙蝠女俠 (2019– ), Hitman: Agent 47 (2015), 熱氣球飛行家 (2019), Timeless (2016–2018)]                        |[]        |\n",
      "|99999297|[Deadly Switch (2019)]                                                                                                                                                    |[]        |\n",
      "|99999136|[Undone (2019– )]                                                                                                                                                         |[]        |\n",
      "|99998970|[The Sitter (2011)]                                                                                                                                                       |[]        |\n",
      "|99998915|[Run On (2020– )]                                                                                                                                                         |[]        |\n",
      "|99998662|[The Haunting of Bly Manor (2020)]                                                                                                                                        |[]        |\n",
      "|99998397|[The Hunger Games (2012)]                                                                                                                                                 |[]        |\n",
      "|99998238|[Dhoom 3 (2013)]                                                                                                                                                          |[]        |\n",
      "|99998227|[Ratched (2020– )]                                                                                                                                                        |[]        |\n",
      "|99998079|[Atlantic Crossing (2020– )]                                                                                                                                              |[]        |\n",
      "|99997516|[舞棍俱樂部 (2012), Magic Mike XXL (2015)]                                                                                                                                |[]        |\n",
      "|99997199|[Jack and Jill (I) (2011)]                                                                                                                                                |[]        |\n",
      "|99997093|[Gunday (2014)]                                                                                                                                                           |[]        |\n",
      "|99997058|[Panchayat (2020– )]                                                                                                                                                      |[]        |\n",
      "|99996763|[Lovecraft Country (2020– ), Brockmire (2017–2020)]                                                                                                                       |[]        |\n",
      "|99996677|[Out of the Furnace (2013)]                                                                                                                                               |[]        |\n",
      "|99996623|[Nightcrawler (2014)]                                                                                                                                                     |[]        |\n",
      "+--------+--------------------------------------------------------------------------------------------------------------------------------------------------------------------------+----------+\n",
      "only showing top 20 rows\n",
      "\n"
     ]
    },
    {
     "name": "stderr",
     "output_type": "stream",
     "text": [
      "\r",
      "[Stage 66:===================================>                  (131 + 2) / 200]\r"
     ]
    },
    {
     "name": "stdout",
     "output_type": "stream",
     "text": [
      "CPU times: user 28.1 ms, sys: 3.46 ms, total: 31.6 ms\n",
      "Wall time: 15.9 s\n"
     ]
    },
    {
     "name": "stderr",
     "output_type": "stream",
     "text": [
      "\r",
      "[Stage 66:===============================================>      (176 + 3) / 200]\r",
      "\r",
      "                                                                                \r"
     ]
    }
   ],
   "source": [
    "%%time\n",
    "# transform examines the input items against all the association rules and summarize the\n",
    "# consequents as prediction\n",
    "model.transform(df).show(20,truncate=False)\n",
    "transformed = model.transform(df)"
   ]
  },
  {
   "cell_type": "code",
   "execution_count": null,
   "id": "fa703bc2",
   "metadata": {},
   "outputs": [],
   "source": []
  }
 ],
 "metadata": {
  "kernelspec": {
   "display_name": "Python 3 (ipykernel)",
   "language": "python",
   "name": "python3"
  },
  "language_info": {
   "codemirror_mode": {
    "name": "ipython",
    "version": 3
   },
   "file_extension": ".py",
   "mimetype": "text/x-python",
   "name": "python",
   "nbconvert_exporter": "python",
   "pygments_lexer": "ipython3",
   "version": "3.8.10"
  }
 },
 "nbformat": 4,
 "nbformat_minor": 5
}
