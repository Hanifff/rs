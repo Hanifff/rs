{
 "cells": [
  {
   "cell_type": "code",
   "execution_count": 1,
   "id": "f248207e",
   "metadata": {},
   "outputs": [],
   "source": [
    "from pyspark.ml.fpm import FPGrowth\n",
    "from numpy import array\n",
    "from math import sqrt\n",
    "from pyspark.sql import SparkSession\n",
    "from pyspark.conf import SparkConf\n",
    "from pyspark.sql import functions as F\n",
    "import pandas as pd"
   ]
  },
  {
   "cell_type": "code",
   "execution_count": 2,
   "id": "134fb5fa",
   "metadata": {},
   "outputs": [],
   "source": [
    "# set config of spark\n",
    "conf = spark.sparkContext._conf.setAll([('spark.executor.memory', '16g'), ('spark.driver.memory','16g'),(\"spark.memory.offHeap.enabled\",\"true\"),(\"spark.memory.offHeap.size\",\"4g\"),(\"spark.driver.extraJavaOptions\",\"12g\")])\n",
    "\n",
    "spark = SparkSession.builder.appName('dat500').config(conf=conf).getOrCreate()\n",
    "spark = SparkSession(spark)"
   ]
  },
  {
   "cell_type": "code",
   "execution_count": 3,
   "id": "f52d1129",
   "metadata": {},
   "outputs": [
    {
     "name": "stderr",
     "output_type": "stream",
     "text": [
      "[Stage 0:=============================>                             (1 + 1) / 2]\r"
     ]
    },
    {
     "name": "stdout",
     "output_type": "stream",
     "text": [
      "CPU times: user 780 µs, sys: 11.3 ms, total: 12.1 ms\n",
      "Wall time: 17.3 s\n"
     ]
    },
    {
     "name": "stderr",
     "output_type": "stream",
     "text": [
      "\r",
      "                                                                                \r"
     ]
    }
   ],
   "source": [
    "%%time\n",
    "# A JSON dataset is pointed to by path.\n",
    "# The path can be either a single text file or a directory storing text files\n",
    "\n",
    "path=\"/mydataset/proc_netflix/pre_part-02.json\"\n",
    "# .option(\"multiline\", \"true\")\n",
    "init_df = spark.read.json(path)"
   ]
  },
  {
   "cell_type": "code",
   "execution_count": 4,
   "id": "e63f6e1a",
   "metadata": {},
   "outputs": [
    {
     "name": "stdout",
     "output_type": "stream",
     "text": [
      "root\n",
      " |-- reviewer: long (nullable = true)\n",
      " |-- collect_set(movie): array (nullable = false)\n",
      " |    |-- element: string (containsNull = false)\n",
      "\n",
      "CPU times: user 9.84 ms, sys: 0 ns, total: 9.84 ms\n",
      "Wall time: 327 ms\n"
     ]
    }
   ],
   "source": [
    "%%time\n",
    "# root\n",
    "#  |-- movie: string (nullable = true)\n",
    "#  |-- rating: string (nullable = true)\n",
    "#  |-- review_date: string (nullable = true)\n",
    "#  |-- review_id: string (nullable = true)\n",
    "#  |-- reviewer: string (nullable = true)\n",
    "\n",
    "# set up data frame\n",
    "# remove null\n",
    "df = init_df.na.drop()\n",
    "# remove uesless colums\n",
    "df = df.drop(\"review_summary\",\"spoiler_tag\",\"review_detail\",\"helpful\",\"review_date\").dropDuplicates(['review_id'])\n",
    "\n",
    "# only take the rating > 5, group by reviewer\n",
    "df = df.filter(F.col(\"rating\") >= 5).sort(F.desc(\"rating\"))\n",
    "df=df.groupBy(\"reviewer\").agg(F.collect_set(\"movie\"))\n",
    "\n",
    "# df = df.groupBy(\"reviewer\").agg(F.collect_list(F.struct(F.col(\"movie\"),F.col(\"rating\"))).alias(\"review_info\"))\n",
    "# df = df.groupBy(\"reviewer\").agg(F.collect_list(F.struct(F.col(\"review_id\"),F.col(\"review_info\"))).alias(\"review\"))\n",
    "# df = df.withColumn(\"review\", F.map_from_entries(F.col(\"review_map_list\"))).drop(\"review\")\n",
    "\n",
    "df.printSchema()"
   ]
  },
  {
   "cell_type": "code",
   "execution_count": 5,
   "id": "69fdf1e8",
   "metadata": {},
   "outputs": [
    {
     "name": "stderr",
     "output_type": "stream",
     "text": [
      "                                                                                \r"
     ]
    },
    {
     "name": "stdout",
     "output_type": "stream",
     "text": [
      "The number of reviewers are: 304418\n"
     ]
    },
    {
     "name": "stderr",
     "output_type": "stream",
     "text": [
      "[Stage 9:=================================>                         (4 + 2) / 7]\r"
     ]
    },
    {
     "name": "stdout",
     "output_type": "stream",
     "text": [
      "+--------+----------------------------------------------------------------------------------------------------------------------------------------------------------------------------------------------------------------------------------------------------------------------------------------------------------+\n",
      "|reviewer|collect_set(movie)                                                                                                                                                                                                                                                                                        |\n",
      "+--------+----------------------------------------------------------------------------------------------------------------------------------------------------------------------------------------------------------------------------------------------------------------------------------------------------------+\n",
      "|109433  |[Hemlock Grove (2013–2015), Meeting Evil (2012)]                                                                                                                                                                                                                                                          |\n",
      "|196848  |[The Princess Switch: Switched Again (2020)]                                                                                                                                                                                                                                                              |\n",
      "|237846  |[Deadwood (2004–2006)]                                                                                                                                                                                                                                                                                    |\n",
      "|407327  |[Der Wixxer (2004)]                                                                                                                                                                                                                                                                                       |\n",
      "|505481  |[Panchayat (2020– )]                                                                                                                                                                                                                                                                                      |\n",
      "|524907  |[Code 8 (2019)]                                                                                                                                                                                                                                                                                           |\n",
      "|530121  |[Wonder Woman 1984 (2020)]                                                                                                                                                                                                                                                                                |\n",
      "|766318  |[Aakashvani (2016), Saivam (2014), Nishabdham (2020), Akkare Ninnoru Maran (1985), Kochadaiiyaan (2014), Kalikkalam (1990), Sughamodevi (1986), Idhu Enna Maayam (2015), Lucky Star (2013), Moonnam Mura (1988), Dheem Tharikida Thom (1986), Tamilselvanum Thaniyar Anjalum (2016), Ayal Njanalla (2015)]|\n",
      "|815663  |[Cats (2019)]                                                                                                                                                                                                                                                                                             |\n",
      "|826448  |[Django Unchained (2012)]                                                                                                                                                                                                                                                                                 |\n",
      "+--------+----------------------------------------------------------------------------------------------------------------------------------------------------------------------------------------------------------------------------------------------------------------------------------------------------------+\n",
      "only showing top 10 rows\n",
      "\n"
     ]
    },
    {
     "name": "stderr",
     "output_type": "stream",
     "text": [
      "\r",
      "                                                                                \r"
     ]
    }
   ],
   "source": [
    "row = df.count()\n",
    "print(f'The number of reviewers are: {row}')\n",
    "df.show(10,truncate=False)"
   ]
  },
  {
   "cell_type": "code",
   "execution_count": 6,
   "id": "b7aa428e",
   "metadata": {},
   "outputs": [
    {
     "name": "stderr",
     "output_type": "stream",
     "text": [
      "                                                                                \r"
     ]
    },
    {
     "name": "stdout",
     "output_type": "stream",
     "text": [
      "+-------------------------------------------+----+\n",
      "|items                                      |freq|\n",
      "+-------------------------------------------+----+\n",
      "|[鋒迴路轉 (2019)]                          |284 |\n",
      "|[Dil Bechara (2020)]                       |7349|\n",
      "|[小丑 (2019)]                              |5749|\n",
      "|[Normal People (2020)]                     |283 |\n",
      "|[STAR WARS：天行者的崛起 (2019)]           |3536|\n",
      "|[曼達洛人 (2019– )]                        |283 |\n",
      "|[Gunjan Saxena: The Kargil Girl (2020)]    |3361|\n",
      "|[A Christmas Carol (2019)]                 |282 |\n",
      "|[Scam 1992: The Harshad Mehta Story (2020)]|2942|\n",
      "|[Underwater (2020)]                        |281 |\n",
      "|[Mrs. Serial Killer (2020)]                |2737|\n",
      "|[Stranger Things (2016– )]                 |280 |\n",
      "|[Batman v Superman: Dawn of Justice (2016)]|2231|\n",
      "|[RoboCop (2014)]                           |280 |\n",
      "|[獵魔士 (2019– )]                          |2191|\n",
      "|[Utopia (2020)]                            |280 |\n",
      "|[Tenet (2020)]                             |1990|\n",
      "|[You (2018– )]                             |277 |\n",
      "|[The Matrix (1999)]                        |277 |\n",
      "|[The Queen's Gambit (2020)]                |1887|\n",
      "+-------------------------------------------+----+\n",
      "only showing top 20 rows\n",
      "\n",
      "CPU times: user 117 ms, sys: 20 ms, total: 137 ms\n",
      "Wall time: 56.3 s\n"
     ]
    }
   ],
   "source": [
    "%%time\n",
    "# fp-growth\n",
    "\n",
    "fpGrowth = FPGrowth(itemsCol=\"collect_set(movie)\",minSupport=0.0009, minConfidence=0.06)\n",
    "model = fpGrowth.fit(df)\n",
    "# Display frequent itemsets.\n",
    "model.freqItemsets.show(20,truncate=False)"
   ]
  },
  {
   "cell_type": "code",
   "execution_count": 7,
   "id": "95ddd003",
   "metadata": {},
   "outputs": [
    {
     "name": "stderr",
     "output_type": "stream",
     "text": [
      "                                                                                \r"
     ]
    },
    {
     "name": "stdout",
     "output_type": "stream",
     "text": [
      "+-------------------------------------------------------------------------------------------+---------------------------+------------------+------------------+---------------------+\n",
      "|antecedent                                                                                 |consequent                 |confidence        |lift              |support              |\n",
      "+-------------------------------------------------------------------------------------------+---------------------------+------------------+------------------+---------------------+\n",
      "|[Taish (2020), Comedy Couple (2020), Atkan Chatkan (2020)]                                 |[Naxalbari (2020– )]       |0.9579288025889967|559.7135704923938 |9.723472330808296E-4 |\n",
      "|[Taish (2020), Comedy Couple (2020), Atkan Chatkan (2020)]                                 |[London Confidental (2020)]|0.9546925566343042|562.1384887920727 |9.690622762123134E-4 |\n",
      "|[Taish (2020), Comedy Couple (2020), Atkan Chatkan (2020)]                                 |[Tiki Taka (2020)]         |0.9644012944983819|583.6602649475316 |9.789171468178623E-4 |\n",
      "|[Taish (2020), Comedy Couple (2020), Atkan Chatkan (2020)]                                 |[Poison (2019– )]          |0.9449838187702265|579.9800083516025 |9.592074056067644E-4 |\n",
      "|[Yaara (2020), London Confidental (2020)]                                                  |[Comedy Couple (2020)]     |0.9763313609467456|502.0487166160243 |0.0010840357666103845|\n",
      "|[Yaara (2020), London Confidental (2020)]                                                  |[Naxalbari (2020– )]       |0.9970414201183432|582.5669002487251 |0.0011070304646899987|\n",
      "|[Yaara (2020), London Confidental (2020)]                                                  |[Atkan Chatkan (2020)]     |0.9349112426035503|474.339684418146  |0.001038046370451156 |\n",
      "|[Yaara (2020), London Confidental (2020)]                                                  |[Tiki Taka (2020)]         |0.893491124260355 |540.7450915806934 |9.920569742919276E-4 |\n",
      "|[Yaara (2020), London Confidental (2020)]                                                  |[Poison (2019– )]          |0.9733727810650887|597.403619488452  |0.001080750809741868 |\n",
      "|[Poison (2019– ), Tiki Taka (2020)]                                                        |[Taish (2020)]             |0.7126696832579186|400.2757926900536 |0.0010347614135826396|\n",
      "|[Poison (2019– ), Tiki Taka (2020)]                                                        |[Yaara (2020)]             |0.6877828054298643|406.5504195404824 |9.986268880289601E-4 |\n",
      "|[Poison (2019– ), Tiki Taka (2020)]                                                        |[London Confidental (2020)]|0.9728506787330317|572.8302861093849 |0.001412531453462016 |\n",
      "|[Poison (2019– ), Tiki Taka (2020)]                                                        |[Comedy Couple (2020)]     |0.9660633484162896|496.768703375321  |0.0014026765828564671|\n",
      "|[Poison (2019– ), Tiki Taka (2020)]                                                        |[Naxalbari (2020– )]       |0.9932126696832579|580.329778271858  |0.0014420960652786628|\n",
      "|[Poison (2019– ), Tiki Taka (2020)]                                                        |[Atkan Chatkan (2020)]     |0.9366515837104072|475.22266968325795|0.001359972143565755 |\n",
      "|[Poison (2019– ), Tiki Taka (2020), Naxalbari (2020– ), Taish (2020), Atkan Chatkan (2020)]|[London Confidental (2020)]|0.9826388888888888|578.5937432839028 |9.296427937901176E-4 |\n",
      "|[Poison (2019– ), Tiki Taka (2020), Naxalbari (2020– ), Taish (2020), Atkan Chatkan (2020)]|[Comedy Couple (2020)]     |0.9652777777777778|496.3647475600601 |9.13218009447536E-4  |\n",
      "|[Poison (2019– ), London Confidental (2020), Atkan Chatkan (2020)]                         |[Tiki Taka (2020)]         |0.90744920993228  |549.1925916285583 |0.0013205526611435592|\n",
      "|[Poison (2019– ), London Confidental (2020), Atkan Chatkan (2020)]                         |[Yaara (2020)]             |0.6952595936794582|410.9699708518705 |0.0010117667155030254|\n",
      "|[Poison (2019– ), London Confidental (2020), Atkan Chatkan (2020)]                         |[Taish (2020)]             |0.6681715575620768|375.2831166234913 |9.723472330808296E-4 |\n",
      "+-------------------------------------------------------------------------------------------+---------------------------+------------------+------------------+---------------------+\n",
      "only showing top 20 rows\n",
      "\n"
     ]
    }
   ],
   "source": [
    "items = model.freqItemsets\n",
    "# Display generated association rules.\n",
    "model.associationRules.show(20,truncate=False)\n",
    "rules = model.associationRules"
   ]
  },
  {
   "cell_type": "code",
   "execution_count": 8,
   "id": "33339aba",
   "metadata": {},
   "outputs": [
    {
     "name": "stderr",
     "output_type": "stream",
     "text": [
      "                                                                                \r"
     ]
    },
    {
     "name": "stdout",
     "output_type": "stream",
     "text": [
      "+--------+----------------------------------------------------------------------------------------------------------------------------------------------------------------------------------------------------------------------------------------------------------------------------------------------------------+----------+\n",
      "|reviewer|collect_set(movie)                                                                                                                                                                                                                                                                                        |prediction|\n",
      "+--------+----------------------------------------------------------------------------------------------------------------------------------------------------------------------------------------------------------------------------------------------------------------------------------------------------------+----------+\n",
      "|109433  |[Hemlock Grove (2013–2015), Meeting Evil (2012)]                                                                                                                                                                                                                                                          |[]        |\n",
      "|196848  |[The Princess Switch: Switched Again (2020)]                                                                                                                                                                                                                                                              |[]        |\n",
      "|237846  |[Deadwood (2004–2006)]                                                                                                                                                                                                                                                                                    |[]        |\n",
      "|407327  |[Der Wixxer (2004)]                                                                                                                                                                                                                                                                                       |[]        |\n",
      "|505481  |[Panchayat (2020– )]                                                                                                                                                                                                                                                                                      |[]        |\n",
      "|524907  |[Code 8 (2019)]                                                                                                                                                                                                                                                                                           |[]        |\n",
      "|530121  |[Wonder Woman 1984 (2020)]                                                                                                                                                                                                                                                                                |[]        |\n",
      "|766318  |[Aakashvani (2016), Saivam (2014), Nishabdham (2020), Akkare Ninnoru Maran (1985), Kochadaiiyaan (2014), Kalikkalam (1990), Sughamodevi (1986), Idhu Enna Maayam (2015), Lucky Star (2013), Moonnam Mura (1988), Dheem Tharikida Thom (1986), Tamilselvanum Thaniyar Anjalum (2016), Ayal Njanalla (2015)]|[]        |\n",
      "|815663  |[Cats (2019)]                                                                                                                                                                                                                                                                                             |[]        |\n",
      "|826448  |[Django Unchained (2012)]                                                                                                                                                                                                                                                                                 |[]        |\n",
      "|874978  |[The Expecting (2020– )]                                                                                                                                                                                                                                                                                  |[]        |\n",
      "|1008612 |[Mama (I) (2013), Open Grave (2013)]                                                                                                                                                                                                                                                                      |[]        |\n",
      "|1099408 |[鋒迴路轉 (2019)]                                                                                                                                                                                                                                                                                         |[]        |\n",
      "|1298086 |[The King's Speech (2010)]                                                                                                                                                                                                                                                                                |[]        |\n",
      "|1301234 |[Gameboys (2020– )]                                                                                                                                                                                                                                                                                       |[]        |\n",
      "|1345898 |[The Flight Attendant (2020– )]                                                                                                                                                                                                                                                                           |[]        |\n",
      "|1381546 |[Interstellar (2014), Kothao Keu Nei (1990– )]                                                                                                                                                                                                                                                            |[]        |\n",
      "|1516914 |[Tenet (2020)]                                                                                                                                                                                                                                                                                            |[]        |\n",
      "|1576492 |[Tajkun (2020– ), Kalup (2020– )]                                                                                                                                                                                                                                                                         |[]        |\n",
      "|1592442 |[One Cut of the Dead (2017)]                                                                                                                                                                                                                                                                              |[]        |\n",
      "+--------+----------------------------------------------------------------------------------------------------------------------------------------------------------------------------------------------------------------------------------------------------------------------------------------------------------+----------+\n",
      "only showing top 20 rows\n",
      "\n"
     ]
    },
    {
     "name": "stderr",
     "output_type": "stream",
     "text": [
      "                                                                                \r"
     ]
    }
   ],
   "source": [
    "# transform examines the input items against all the association rules and summarize the\n",
    "# consequents as prediction\n",
    "model.transform(df).show(20,truncate=False)\n",
    "transformed = model.transform(df)"
   ]
  },
  {
   "cell_type": "code",
   "execution_count": null,
   "id": "c82f5e6e",
   "metadata": {},
   "outputs": [],
   "source": []
  }
 ],
 "metadata": {
  "kernelspec": {
   "display_name": "Python 3 (ipykernel)",
   "language": "python",
   "name": "python3"
  },
  "language_info": {
   "codemirror_mode": {
    "name": "ipython",
    "version": 3
   },
   "file_extension": ".py",
   "mimetype": "text/x-python",
   "name": "python",
   "nbconvert_exporter": "python",
   "pygments_lexer": "ipython3",
   "version": "3.8.10"
  }
 },
 "nbformat": 4,
 "nbformat_minor": 5
}
